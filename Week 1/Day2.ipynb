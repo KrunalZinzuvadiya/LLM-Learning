{
 "cells": [
  {
   "cell_type": "code",
   "execution_count": 18,
   "id": "d9ce2d93-f4ec-4454-86a5-0eb31c65f0cd",
   "metadata": {},
   "outputs": [],
   "source": [
    "import requests\n",
    "from bs4 import BeautifulSoup\n",
    "from IPython.display import Markdown, display"
   ]
  },
  {
   "cell_type": "code",
   "execution_count": 19,
   "id": "723000a5-b375-4461-8b8b-7181473a027d",
   "metadata": {},
   "outputs": [],
   "source": [
    "OLLAMA_API = \"http://localhost:11434/api/chat\"\n",
    "HEADERS = {\"Content-Type\":\"application/json\"}\n",
    "MODEL = \"llama3.2\""
   ]
  },
  {
   "cell_type": "code",
   "execution_count": 20,
   "id": "726944e6-6f6a-4000-a491-02d109a7d1b0",
   "metadata": {},
   "outputs": [],
   "source": [
    "messages = [{\"role\":\"user\", \"content\":\"Describe some of the business application of Generative AI\"}]"
   ]
  },
  {
   "cell_type": "code",
   "execution_count": 21,
   "id": "22abffd3-bd68-4980-8909-d7f22222c2bf",
   "metadata": {},
   "outputs": [],
   "source": [
    "payload = {\n",
    "    \"model\": MODEL,\n",
    "    \"messages\": messages,\n",
    "    \"stream\": False\n",
    "}"
   ]
  },
  {
   "cell_type": "code",
   "execution_count": 22,
   "id": "43aab543-02cf-4362-944d-57e83e83264b",
   "metadata": {},
   "outputs": [],
   "source": [
    "response = requests.post(OLLAMA_API, json=payload, headers = HEADERS)"
   ]
  },
  {
   "cell_type": "code",
   "execution_count": 23,
   "id": "e18c7407-07c5-41a4-8374-44bb7dbef213",
   "metadata": {},
   "outputs": [
    {
     "name": "stdout",
     "output_type": "stream",
     "text": [
      "Generative AI has numerous business applications across various industries. Here are some examples:\n",
      "\n",
      "1. **Content Generation**: Generative AI can be used to generate high-quality content such as articles, social media posts, product descriptions, and more. This can help businesses save time and resources while maintaining a consistent tone and style.\n",
      "2. **Image and Video Creation**: Generative AI can create realistic images and videos for use in marketing campaigns, advertising, and other applications. This can be particularly useful for businesses that need to create visual content quickly and efficiently.\n",
      "3. **Chatbots and Virtual Assistants**: Generative AI can power chatbots and virtual assistants, enabling businesses to provide 24/7 customer support and improve the overall user experience.\n",
      "4. **Predictive Maintenance**: Generative AI can analyze sensor data from industrial equipment and predict when maintenance is required, reducing downtime and increasing efficiency.\n",
      "5. **Marketing Automation**: Generative AI can help automate marketing tasks such as email campaigns, lead generation, and personalized recommendations.\n",
      "6. **Personalized Recommendations**: Generative AI can be used to create personalized product recommendations for customers based on their browsing history, purchase behavior, and other factors.\n",
      "7. **Financial Analysis**: Generative AI can analyze large datasets of financial transactions and identify patterns and trends that may indicate potential risks or opportunities.\n",
      "8. **Supply Chain Optimization**: Generative AI can optimize supply chain operations by analyzing data from various sources such as weather forecasts, inventory levels, and shipping routes.\n",
      "9. **Product Design**: Generative AI can be used to design new products, such as furniture, electronics, and even buildings, quickly and efficiently.\n",
      "10. **Customer Service**: Generative AI can help automate customer service tasks such as responding to common inquiries, routing complex issues to human representatives, and providing empathetic support.\n",
      "\n",
      "Some specific examples of businesses using generative AI include:\n",
      "\n",
      "* **Amazon**: Uses generative AI to power its Alexa virtual assistant and create personalized product recommendations.\n",
      "* **Nike**: Uses generative AI to design new products and create personalized sneaker designs for customers.\n",
      "* **Hulu**: Uses generative AI to create personalized content recommendations for users.\n",
      "* **Uber**: Uses generative AI to optimize its supply chain operations and reduce costs.\n",
      "\n",
      "These are just a few examples of the many business applications of generative AI. As the technology continues to evolve, we can expect to see even more innovative uses in the future.\n"
     ]
    }
   ],
   "source": [
    "print(response.json()['message']['content'])"
   ]
  },
  {
   "cell_type": "code",
   "execution_count": 24,
   "id": "8a4739cf-f50e-49c8-bbdd-8e7e552d3930",
   "metadata": {},
   "outputs": [],
   "source": [
    "from openai import OpenAI\n",
    "MODEL = \"llama3.2\"\n",
    "openai = OpenAI(base_url=\"http://localhost:11434/v1\", api_key=\"ollama\")"
   ]
  },
  {
   "cell_type": "code",
   "execution_count": 25,
   "id": "b0be0250-c0d2-4b19-b7ba-e05daee1e246",
   "metadata": {},
   "outputs": [],
   "source": [
    "messages = [{\"role\":\"user\", \"content\":\"Describe some of the business application of Generative AI\"}]"
   ]
  },
  {
   "cell_type": "code",
   "execution_count": 26,
   "id": "74b842b8-2023-4288-8581-fcab0e806afb",
   "metadata": {},
   "outputs": [],
   "source": [
    "response = openai.chat.completions.create(\n",
    "    model = MODEL,\n",
    "    messages=messages\n",
    ")"
   ]
  },
  {
   "cell_type": "code",
   "execution_count": 27,
   "id": "63e5c992-9000-4a4a-b2ab-9e8f048d46cb",
   "metadata": {},
   "outputs": [
    {
     "name": "stdout",
     "output_type": "stream",
     "text": [
      "Generative AI (Artificial Intelligence) has a wide range of potential business applications across various industries. Here are some examples:\n",
      "\n",
      "1. **Content Generation**: Generative AI can be used to create high-quality content such as:\n",
      " * Blog articles and social media posts\n",
      " * Product descriptions and e-commerce product recommendations\n",
      " * Sales copy and marketing materials\n",
      " * Music and audio effects for video games, movies, or commercials\n",
      "\n",
      "Companies like WordLift, Content Blossom, and Article Forge are already using Generative AI to generate high-quality content.\n",
      "\n",
      "2. **Image and Video Generation**: Generative AI can be used to create:\n",
      " * High-resolution images and graphics for advertising, marketing, and packaging\n",
      " * Custom product designs, logos, and branding materials\n",
      " * Personalized avatars for social media, e-commerce, or customer service\n",
      " * Realistic video content, such as characters, backgrounds, and special effects\n",
      "\n",
      "Companies like Prisma, Deep Dream Generator, and Midjourney are popularizing Generative AI-powered image generation.\n",
      "\n",
      "3. **Product Design and Development**: Generative AI can aid in:\n",
      " * Concept design for products, packaging, and user interfaces\n",
      " * Material suggestions, simulations, and prototyping for product development\n",
      " * Product testing and optimization\n",
      "\n",
      "Companies like Autodesk, Dassault Systèmes, and Siemens are using Generative AI to optimize product design, simulation, and manufacturing.\n",
      "\n",
      "4. **Marketing Automation**: Generative AI can help:\n",
      " * Create personalized customer experiences and recommendations\n",
      " * Generate optimized ad creative and copy for various channels (e.g., Facebook, Instagram, Google Ads)\n",
      " * Develop chatbots and virtual assistants\n",
      "\n",
      "Companies like Adverity, Acxiom, and OpenMagic Solutions are using Generative AI-powered marketing automation tools.\n",
      "\n",
      "5. **Cybersecurity**: Generative AI can help:\n",
      " * Analyze threats and detect anomalies in IT systems\n",
      " * Simulate attacks to improve vulnerability testing\n",
      " * Create and analyze synthetic malware for reverse engineering\n",
      "\n",
      "Companies like Cyberslab, SentinelOne, and Darktrace are using Generative AI for cybersecurity purpose.\n",
      "\n",
      "6. **Customer Service and Support**: Generative AI can help:\n",
      " * Provide automated customer support and technical assistance\n",
      " * Personalize customer experiences with context-aware responses\n",
      " * Analyze chatbot performance and improve its accuracy\n",
      "\n",
      "Companies like LiveWorld, IBM, and Microsoft are developing Conversational AI using Generative AI for enterprise applications.\n",
      "\n",
      "7. **Creative Writing and Editing**: Generative AI can generate:\n",
      " * Article ideas based on keywords and topics\n",
      " * Content suggestions for writers, editors, or publishers\n",
      "\n",
      "While there is debate about the benefits of using human-written content vs. generative AI-generated content, several companies like Google, Medium, and Grammarly are partnering with Generative IA providers.\n",
      "\n",
      "8. **Finance and Accounting**: Generative AI can help:\n",
      " * Automate bookkeeping, accounting, and analysis\n",
      " * Analyze market trends, sentiment, and predictions\n",
      "\n",
      "Companies like MoneySoft, Algorithmica, and SmartData are developing AI-powered solutions for finance and accounting purposes.\n",
      "\n",
      "9. **Supply Chain Optimization**: Generative AI can aid in:\n",
      " * Predicting future demand and supply chain optimization\n",
      " * Inventory management and demand forecasting\n",
      " * Optimizing logistics planning and routing\n",
      "\n",
      "Companies using this technology include DHL, 3M Corporation, and PepsiCo.\n",
      "\n",
      "10. **R&D Research Applications**: Generative AI can help accelerate the R&D process for various industries such as:\n",
      " * Materials synthesis and structural innovation\n",
      " * Medicinal discovery and genomics analysis\n",
      " * Computational fluid dynamics and predictive modeling\n",
      "\n",
      "This area applies Generative AI to understand complex phenomena by simulating different systems, environments, or components of a project.\n",
      "\n",
      "While just starting to tap into this market, these are some real-world examples of business applications with the vast potential Generative AI holds for both practical problem-solving and revenue generation.\n"
     ]
    }
   ],
   "source": [
    "print(response.choices[0].message.content)"
   ]
  },
  {
   "cell_type": "code",
   "execution_count": 29,
   "id": "53a060ab-19f2-4738-a697-debc1f541585",
   "metadata": {},
   "outputs": [
    {
     "name": "stdout",
     "output_type": "stream",
     "text": [
      "Generative AI has numerous business applications across various industries, including:\n",
      "\n",
      "1. **Content Creation**: AI can generate high-quality content such as blog posts, social media posts, product descriptions, and more. This helps businesses save time and resources while maintaining consistency in their content.\n",
      "2. **Product Design**: Generative AI can be used to design new products, such as furniture, clothing, or electronics, by generating 3D models, prototypes, and even entire product lines.\n",
      "3. **Marketing and Advertising**: AI-generated content, images, and videos can be used in marketing campaigns to create personalized ads, social media posts, and influencer partnerships.\n",
      "4. **Customer Service**: Chatbots and virtual assistants powered by Generative AI can provide 24/7 customer support, answering common questions, and routing complex issues to human agents.\n",
      "5. **Image and Video Generation**: Businesses can use Generative AI to create custom images and videos for marketing materials, product demonstrations, or training purposes.\n",
      "6. **Predictive Maintenance**: By analyzing sensor data from machines and equipment, Generative AI can predict maintenance needs, reducing downtime and increasing efficiency.\n",
      "7. **Supply Chain Optimization**: AI-generated models can optimize supply chain logistics, predicting demand, managing inventory, and streamlining transportation routes.\n",
      "8. **Financial Analysis**: Generative AI can analyze large datasets to identify trends, patterns, and predictions in financial markets, helping businesses make data-driven investment decisions.\n",
      "9. **Human Resources**: AI-powered tools can help with tasks such as talent acquisition, candidate sourcing, and employee onboarding, freeing up HR teams to focus on strategic initiatives.\n",
      "10. **Data Analysis and Visualization**: Generative AI can analyze complex data sets, generating insights and visualizations that help businesses make informed decisions about product development, pricing, and more.\n",
      "\n",
      "Some specific examples of business applications include:\n",
      "\n",
      "* IBM's \"Watson\" platform uses Generative AI to analyze vast amounts of customer service data, providing personalized responses and improving overall customer experience.\n",
      "* Google's \"BERT\" (Bidirectional Encoder Representations from Transformers) is a Generative AI model that improves language understanding and generation, used in various Google applications, including search and translation.\n",
      "* Autodesk's \"Generative Design\" tool uses AI to generate sustainable building designs, optimizing energy efficiency and reducing material usage.\n",
      "\n",
      "These examples demonstrate the vast potential of Generative AI to transform business operations, improve customer experiences, and drive innovation across industries.\n"
     ]
    }
   ],
   "source": [
    "import ollama\n",
    "\n",
    "response = ollama.chat(\n",
    "    model= MODEL,\n",
    "    messages= messages\n",
    ")\n",
    "print(response['message']['content'])"
   ]
  },
  {
   "cell_type": "code",
   "execution_count": null,
   "id": "e792b91e-bdb5-48a3-a910-4ac48b0206af",
   "metadata": {},
   "outputs": [],
   "source": []
  },
  {
   "cell_type": "code",
   "execution_count": null,
   "id": "b2aa2a2a-3a86-40b8-9ff4-2a9920636ddc",
   "metadata": {},
   "outputs": [],
   "source": []
  },
  {
   "cell_type": "markdown",
   "id": "3fd64235-ac5d-4cdb-8896-126aacaab480",
   "metadata": {},
   "source": [
    "# "
   ]
  }
 ],
 "metadata": {
  "kernelspec": {
   "display_name": "Python 3 (ipykernel)",
   "language": "python",
   "name": "python3"
  },
  "language_info": {
   "codemirror_mode": {
    "name": "ipython",
    "version": 3
   },
   "file_extension": ".py",
   "mimetype": "text/x-python",
   "name": "python",
   "nbconvert_exporter": "python",
   "pygments_lexer": "ipython3",
   "version": "3.10.12"
  }
 },
 "nbformat": 4,
 "nbformat_minor": 5
}
