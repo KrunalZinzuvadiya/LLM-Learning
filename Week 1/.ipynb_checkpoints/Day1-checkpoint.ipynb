{
 "cells": [
  {
   "cell_type": "code",
   "execution_count": 8,
   "id": "724191f8-9f81-4436-88ef-fd6f03e9c8d8",
   "metadata": {},
   "outputs": [
    {
     "name": "stdout",
     "output_type": "stream",
     "text": [
      "2 + 2 = 4\n"
     ]
    }
   ],
   "source": [
    "from openai import OpenAI\n",
    "MODEL = \"llama3.2\"\n",
    "openai = OpenAI(base_url=\"http://localhost:11434/v1\", api_key=\"ollama\")\n",
    "\n",
    "response = openai.chat.completions.create(\n",
    " model=MODEL,\n",
    " messages=[{\"role\": \"user\", \"content\": \"What is 2 + 2?\"}]\n",
    ")\n",
    "\n",
    "print(response.choices[0].message.content)"
   ]
  },
  {
   "cell_type": "markdown",
   "id": "4ed254d0-fc20-49f3-90d2-b27a7bcd6f62",
   "metadata": {},
   "source": [
    "# Web Project"
   ]
  },
  {
   "cell_type": "code",
   "execution_count": 9,
   "id": "28f1c670-2e57-4c4c-82a3-8ef050a088d7",
   "metadata": {},
   "outputs": [],
   "source": [
    "import os\n",
    "import requests\n",
    "from dotenv import load_dotenv\n",
    "from bs4 import BeautifulSoup\n",
    "from IPython.display import Markdown, display\n",
    "from openai import OpenAI"
   ]
  },
  {
   "cell_type": "code",
   "execution_count": 10,
   "id": "0799f744-2ed9-4332-a8f7-de25e4ebcbdf",
   "metadata": {},
   "outputs": [],
   "source": [
    "MODEL = \"llama3.2\"\n",
    "openai = OpenAI(base_url=\"http://localhost:11434/v1\", api_key=\"ollama\")"
   ]
  },
  {
   "cell_type": "code",
   "execution_count": 11,
   "id": "a48be129-49fb-4aac-bd56-9c6cac4099c2",
   "metadata": {},
   "outputs": [
    {
     "name": "stdout",
     "output_type": "stream",
     "text": [
      "Hello! Welcome to our conversation. It's a pleasure to meet you, and I'm happy to be your first chat with me. Don't worry if you're not sure what to talk about - we can explore anything that interests you. How's your day going so far?\n"
     ]
    }
   ],
   "source": [
    "message = \"Hello, GPT! This is my first ever message to you! Hi!\"\n",
    "response = openai.chat.completions.create(model=MODEL, messages=[{\"role\":\"user\", \"content\":message}])\n",
    "print(response.choices[0].message.content)"
   ]
  },
  {
   "cell_type": "code",
   "execution_count": 12,
   "id": "b4985455-3331-42b7-ba39-296d75206b5c",
   "metadata": {},
   "outputs": [],
   "source": [
    "headers = {\n",
    "    \"User-Agent\": \"Mozilla/5.0 (X11; Ubuntu; Linux x86_64) AppleWebKit/537.36 (KHTML, like Gecko) Chrome/117.0.0.0 Safari/537.36\"\n",
    "}\n",
    "\n",
    "class website:\n",
    "    url:str\n",
    "    title:str\n",
    "    text:str\n",
    "    def __init__(self, url):\n",
    "        self.url = url\n",
    "        response = requests.get(url, headers=headers)\n",
    "        soup = BeautifulSoup(response.content, 'html.parser')\n",
    "        self.title = soup.title.string if soup.title else \"No Title\"\n",
    "        for irrelevant in soup.body([\"script\", \"style\", \"img\", \"input\"]):\n",
    "            irrelevant.decompose()\n",
    "        self.text = soup.body.get_text(separator='\\n', strip = True)"
   ]
  },
  {
   "cell_type": "code",
   "execution_count": 13,
   "id": "8fd59479-310d-4127-b0bb-aa317d6bbd1f",
   "metadata": {},
   "outputs": [
    {
     "name": "stdout",
     "output_type": "stream",
     "text": [
      "Home - Edward Donner\n"
     ]
    }
   ],
   "source": [
    "ed = website(\"https://edwarddonner.com/\")\n",
    "print(ed.title)"
   ]
  },
  {
   "cell_type": "code",
   "execution_count": 14,
   "id": "5ff4d39c-1ac4-4fc0-b039-b80dbb7454ae",
   "metadata": {},
   "outputs": [
    {
     "name": "stdout",
     "output_type": "stream",
     "text": [
      "Home\n",
      "Connect Four\n",
      "Outsmart\n",
      "An arena that pits LLMs against each other in a battle of diplomacy and deviousness\n",
      "About\n",
      "Posts\n",
      "Well, hi there.\n",
      "I’m Ed. I like writing code and experimenting with LLMs, and hopefully you’re here because you do too. I also enjoy DJing (but I’m badly out of practice), amateur electronic music production (\n",
      "very\n",
      "amateur) and losing myself in\n",
      "Hacker News\n",
      ", nodding my head sagely to things I only half understand.\n",
      "I’m the co-founder and CTO of\n",
      "Nebula.io\n",
      ". We’re applying AI to a field where it can make a massive, positive impact: helping people discover their potential and pursue their reason for being. Recruiters use our product today to source, understand, engage and manage talent. I’m previously the founder and CEO of AI startup untapt,\n",
      "acquired in 2021\n",
      ".\n",
      "We work with groundbreaking, proprietary LLMs verticalized for talent, we’ve\n",
      "patented\n",
      "our matching model, and our award-winning platform has happy customers and tons of press coverage.\n",
      "Connect\n",
      "with me for more!\n",
      "May 28, 2025\n",
      "Connecting my courses – become an LLM expert and leader\n",
      "May 18, 2025\n",
      "2025 AI Executive Briefing\n",
      "April 21, 2025\n",
      "The Complete Agentic AI Engineering Course\n",
      "January 23, 2025\n",
      "LLM Workshop – Hands-on with Agents – resources\n",
      "Navigation\n",
      "Home\n",
      "Connect Four\n",
      "Outsmart\n",
      "An arena that pits LLMs against each other in a battle of diplomacy and deviousness\n",
      "About\n",
      "Posts\n",
      "Get in touch\n",
      "ed [at] edwarddonner [dot] com\n",
      "www.edwarddonner.com\n",
      "Follow me\n",
      "LinkedIn\n",
      "Twitter\n",
      "Facebook\n",
      "Subscribe to newsletter\n",
      "Type your email…\n",
      "Subscribe\n"
     ]
    }
   ],
   "source": [
    "print(ed.text)"
   ]
  },
  {
   "cell_type": "code",
   "execution_count": 15,
   "id": "07d2f763-eb7f-46e7-82ee-50a0cdc6d0f0",
   "metadata": {},
   "outputs": [],
   "source": [
    "system_prompt = \"You are an assistant that analyzes the content of a website and provides a short\\\n",
    "summary, ignoring text that might be navigation related. Respond in markdown.\""
   ]
  },
  {
   "cell_type": "code",
   "execution_count": 16,
   "id": "9c73c138-c3f9-4e98-86c5-6f77ce31d202",
   "metadata": {},
   "outputs": [],
   "source": [
    "def user_prompt_for(website):\n",
    "    user_prompt = f\"You are looking at a website title {website.title}\"\n",
    "    user_prompt += \"The contents of this website is as follows;\\\n",
    "    please provide a short summary of this website in markdown. \\\n",
    "    If it includes news or announcements, then summarize these too.\\n\\n\"\n",
    "    user_prompt += website.text\n",
    "    return user_prompt"
   ]
  },
  {
   "cell_type": "code",
   "execution_count": 17,
   "id": "38da3706-ae1b-40a1-8bdc-d6c2821d19e4",
   "metadata": {},
   "outputs": [
    {
     "data": {
      "text/plain": [
       "'You are an assistant that analyzes the content of a website and provides a shortsummary, ignoring text that might be navigation related. Respond in markdown.'"
      ]
     },
     "execution_count": 17,
     "metadata": {},
     "output_type": "execute_result"
    }
   ],
   "source": [
    "system_prompt"
   ]
  },
  {
   "cell_type": "code",
   "execution_count": 18,
   "id": "c07041eb-90e2-41f4-9acc-9562685c1c8a",
   "metadata": {},
   "outputs": [
    {
     "name": "stdout",
     "output_type": "stream",
     "text": [
      "You are looking at a website title Home - Edward DonnerThe contents of this website is as follows;    please provide a short summary of this website in markdown.     If it includes news or announcements, then summarize these too.\n",
      "\n",
      "Home\n",
      "Connect Four\n",
      "Outsmart\n",
      "An arena that pits LLMs against each other in a battle of diplomacy and deviousness\n",
      "About\n",
      "Posts\n",
      "Well, hi there.\n",
      "I’m Ed. I like writing code and experimenting with LLMs, and hopefully you’re here because you do too. I also enjoy DJing (but I’m badly out of practice), amateur electronic music production (\n",
      "very\n",
      "amateur) and losing myself in\n",
      "Hacker News\n",
      ", nodding my head sagely to things I only half understand.\n",
      "I’m the co-founder and CTO of\n",
      "Nebula.io\n",
      ". We’re applying AI to a field where it can make a massive, positive impact: helping people discover their potential and pursue their reason for being. Recruiters use our product today to source, understand, engage and manage talent. I’m previously the founder and CEO of AI startup untapt,\n",
      "acquired in 2021\n",
      ".\n",
      "We work with groundbreaking, proprietary LLMs verticalized for talent, we’ve\n",
      "patented\n",
      "our matching model, and our award-winning platform has happy customers and tons of press coverage.\n",
      "Connect\n",
      "with me for more!\n",
      "May 28, 2025\n",
      "Connecting my courses – become an LLM expert and leader\n",
      "May 18, 2025\n",
      "2025 AI Executive Briefing\n",
      "April 21, 2025\n",
      "The Complete Agentic AI Engineering Course\n",
      "January 23, 2025\n",
      "LLM Workshop – Hands-on with Agents – resources\n",
      "Navigation\n",
      "Home\n",
      "Connect Four\n",
      "Outsmart\n",
      "An arena that pits LLMs against each other in a battle of diplomacy and deviousness\n",
      "About\n",
      "Posts\n",
      "Get in touch\n",
      "ed [at] edwarddonner [dot] com\n",
      "www.edwarddonner.com\n",
      "Follow me\n",
      "LinkedIn\n",
      "Twitter\n",
      "Facebook\n",
      "Subscribe to newsletter\n",
      "Type your email…\n",
      "Subscribe\n"
     ]
    }
   ],
   "source": [
    "print(user_prompt_for(ed))"
   ]
  },
  {
   "cell_type": "code",
   "execution_count": 19,
   "id": "ebfcb2be-f6a7-4091-8579-5e7ea525d4db",
   "metadata": {},
   "outputs": [],
   "source": [
    "def messages_for(website):\n",
    "    return [\n",
    "        {\"role\": \"system\", \"content\": system_prompt},\n",
    "        {\"role\": \"user\", \"content\": user_prompt_for(website)}\n",
    "    ]"
   ]
  },
  {
   "cell_type": "code",
   "execution_count": 20,
   "id": "1cdcac7e-d2bb-406d-a203-b658e8666d8f",
   "metadata": {},
   "outputs": [
    {
     "data": {
      "text/plain": [
       "[{'role': 'system',\n",
       "  'content': 'You are an assistant that analyzes the content of a website and provides a shortsummary, ignoring text that might be navigation related. Respond in markdown.'},\n",
       " {'role': 'user',\n",
       "  'content': 'You are looking at a website title Home - Edward DonnerThe contents of this website is as follows;    please provide a short summary of this website in markdown.     If it includes news or announcements, then summarize these too.\\n\\nHome\\nConnect Four\\nOutsmart\\nAn arena that pits LLMs against each other in a battle of diplomacy and deviousness\\nAbout\\nPosts\\nWell, hi there.\\nI’m Ed. I like writing code and experimenting with LLMs, and hopefully you’re here because you do too. I also enjoy DJing (but I’m badly out of practice), amateur electronic music production (\\nvery\\namateur) and losing myself in\\nHacker News\\n, nodding my head sagely to things I only half understand.\\nI’m the co-founder and CTO of\\nNebula.io\\n. We’re applying AI to a field where it can make a massive, positive impact: helping people discover their potential and pursue their reason for being. Recruiters use our product today to source, understand, engage and manage talent. I’m previously the founder and CEO of AI startup untapt,\\nacquired in 2021\\n.\\nWe work with groundbreaking, proprietary LLMs verticalized for talent, we’ve\\npatented\\nour matching model, and our award-winning platform has happy customers and tons of press coverage.\\nConnect\\nwith me for more!\\nMay 28, 2025\\nConnecting my courses – become an LLM expert and leader\\nMay 18, 2025\\n2025 AI Executive Briefing\\nApril 21, 2025\\nThe Complete Agentic AI Engineering Course\\nJanuary 23, 2025\\nLLM Workshop – Hands-on with Agents – resources\\nNavigation\\nHome\\nConnect Four\\nOutsmart\\nAn arena that pits LLMs against each other in a battle of diplomacy and deviousness\\nAbout\\nPosts\\nGet in touch\\ned [at] edwarddonner [dot] com\\nwww.edwarddonner.com\\nFollow me\\nLinkedIn\\nTwitter\\nFacebook\\nSubscribe to newsletter\\nType your email…\\nSubscribe'}]"
      ]
     },
     "execution_count": 20,
     "metadata": {},
     "output_type": "execute_result"
    }
   ],
   "source": [
    "messages_for(ed)"
   ]
  },
  {
   "cell_type": "code",
   "execution_count": 21,
   "id": "a04fe1e0-9912-42ff-b2c1-d6f447bfea36",
   "metadata": {},
   "outputs": [],
   "source": [
    "def summarize(url):\n",
    "    web = website(url)\n",
    "    response = openai.chat.completions.create(model=MODEL, messages=messages_for(web))\n",
    "    print(response.choices[0].message.content)"
   ]
  },
  {
   "cell_type": "code",
   "execution_count": 22,
   "id": "abc22df4-d509-401a-84be-28d8c54be45f",
   "metadata": {},
   "outputs": [
    {
     "name": "stdout",
     "output_type": "stream",
     "text": [
      "# Short Summary of the Website\n",
      "\n",
      "This website belongs to Edward Donner, a co-founder and CTO of Nebula.io, an AI startup applying AI to help people discover their potential.\n",
      "\n",
      "### Key Highlights:\n",
      "\n",
      "* Edward is a writer, DJ, producer, and enthusiast for learning about Artificial Intelligence (AI) and its applications.\n",
      "* Nebula.io applies AI in the field of talent management, using groundbreaking LLMs to source, understand, engage, and manage talent. \n",
      "* Edward has previously founded an AI startup, AIUNTAPT,\n",
      " acquired in 2021\n",
      ".\n",
      "\n",
      "### Recent News/Announcements\n",
      "\n",
      "* May 28, 2025: New course announced, \"Connecting my courses – become an LLM expert and leader\"\n",
      "* May 18, 2025: Upcoming event, \"2025 AI Executive Briefing\"\n",
      "* April 21, 2025: Release of \"The Complete Agentic AI Engineering Course\"\n"
     ]
    }
   ],
   "source": [
    "summarize(\"https://edwarddonner.com/\")"
   ]
  },
  {
   "cell_type": "code",
   "execution_count": 29,
   "id": "8fedddd6-d2dc-4c63-a6d0-8708bb251b1b",
   "metadata": {},
   "outputs": [],
   "source": [
    "from IPython.display import display, Markdown\n",
    "def display_summary(url):\n",
    "    summary = summarize(url)\n",
    "    display(Markdown(summary))"
   ]
  },
  {
   "cell_type": "code",
   "execution_count": 30,
   "id": "aacafa2f-4603-4bb0-b70f-7ef42a5e8d84",
   "metadata": {},
   "outputs": [
    {
     "name": "stdout",
     "output_type": "stream",
     "text": [
      "### Website Summary\n",
      "#### Overview\n",
      "The website belongs to Edward Donner, a co-founder and CTO of Nebula.io. The main focus is on artificial intelligence (AI), with an emphasis on large language models (LLMs).\n",
      "\n",
      "#### Key Activities\n",
      "- Applicability of AI in talent assessment and management.\n",
      "- Development of proprietary matching model for LLMs-based talent sourcing.\n",
      "\n",
      "#### Recent News and Announcements\n",
      "- May 18, 2025: Relaunching courses to become an LLM expert and leader.\n",
      "- April 21, 2025: Release of the Complete Agentic AI Engineering Course.\n",
      "- January 23, 2025: Introduction to the LLM Workshop – Hands-on with Agents – resources.\n",
      "\n",
      "#### Personal Projects and Interests\n",
      "- Passion for DJing (outdated) and amateur electronic music production.\n",
      "- Follower on social media platforms such as LinkedIn, Twitter, Facebook, and Hacker News.\n"
     ]
    },
    {
     "data": {
      "text/plain": [
       "<IPython.core.display.Markdown object>"
      ]
     },
     "metadata": {},
     "output_type": "display_data"
    }
   ],
   "source": [
    "display_summary(\"https://edwarddonner.com/\")"
   ]
  },
  {
   "cell_type": "markdown",
   "id": "23c6780a-e1d0-4199-adbb-53b8767fb4af",
   "metadata": {},
   "source": [
    "---"
   ]
  },
  {
   "cell_type": "markdown",
   "id": "efbcabb0-0a56-40f7-bee1-b6703ec37757",
   "metadata": {},
   "source": [
    "### Website Summary\n",
    "#### Overview\n",
    "The website belongs to Edward Donner, a co-founder and CTO of Nebula.io. The main focus is on artificial intelligence (AI), with an emphasis on large language models (LLMs).\n",
    "\n",
    "#### Key Activities\n",
    "- Applicability of AI in talent assessment and management.\n",
    "- Development of proprietary matching model for LLMs-based talent sourcing.\n",
    "\n",
    "#### Recent News and Announcements\n",
    "- May 18, 2025: Relaunching courses to become an LLM expert and leader.\n",
    "- April 21, 2025: Release of the Complete Agentic AI Engineering Course.\n",
    "- January 23, 2025: Introduction to the LLM Workshop – Hands-on with Agents – resources.\n",
    "\n",
    "#### Personal Projects and Interests\n",
    "- Passion for DJing (outdated) and amateur electronic music production.\n",
    "- Follower on social media platforms such as LinkedIn, Twitter, Facebook, and Hacker News."
   ]
  },
  {
   "cell_type": "code",
   "execution_count": null,
   "id": "890e0ea2-ca42-4f22-95b4-e9cf20b1c490",
   "metadata": {},
   "outputs": [],
   "source": []
  }
 ],
 "metadata": {
  "kernelspec": {
   "display_name": "Python 3 (ipykernel)",
   "language": "python",
   "name": "python3"
  },
  "language_info": {
   "codemirror_mode": {
    "name": "ipython",
    "version": 3
   },
   "file_extension": ".py",
   "mimetype": "text/x-python",
   "name": "python",
   "nbconvert_exporter": "python",
   "pygments_lexer": "ipython3",
   "version": "3.10.12"
  }
 },
 "nbformat": 4,
 "nbformat_minor": 5
}
