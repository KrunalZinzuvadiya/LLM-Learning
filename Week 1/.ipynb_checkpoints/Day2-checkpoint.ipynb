{
 "cells": [
  {
   "cell_type": "code",
   "execution_count": 1,
   "id": "d9ce2d93-f4ec-4454-86a5-0eb31c65f0cd",
   "metadata": {},
   "outputs": [],
   "source": [
    "import requests\n",
    "from bs4 import BeautifulSoup\n",
    "from IPython.display import Markdown, display"
   ]
  },
  {
   "cell_type": "code",
   "execution_count": 4,
   "id": "723000a5-b375-4461-8b8b-7181473a027d",
   "metadata": {},
   "outputs": [],
   "source": [
    "OLLAMA_API = \"http://localhost:11434/api/chat\"\n",
    "HEADERS = {\"Content-Type\":\"application/json\"}\n",
    "MODEL = \"llama3.2\""
   ]
  },
  {
   "cell_type": "code",
   "execution_count": 5,
   "id": "726944e6-6f6a-4000-a491-02d109a7d1b0",
   "metadata": {},
   "outputs": [],
   "source": [
    "messages = {\"role\":\"user\", \"content\":\"Describe some of the business application of Generative AI\"}"
   ]
  },
  {
   "cell_type": "code",
   "execution_count": 6,
   "id": "22abffd3-bd68-4980-8909-d7f22222c2bf",
   "metadata": {},
   "outputs": [],
   "source": [
    "payload = {\n",
    "    \"model\": MODEL,\n",
    "    \"messages\": messages,\n",
    "    \"stream\": False\n",
    "}"
   ]
  },
  {
   "cell_type": "code",
   "execution_count": null,
   "id": "43aab543-02cf-4362-944d-57e83e83264b",
   "metadata": {},
   "outputs": [],
   "source": [
    "response = requests.post(OLLAMA_API, json=payload, headers = HEADERS)"
   ]
  },
  {
   "cell_type": "code",
   "execution_count": null,
   "id": "e18c7407-07c5-41a4-8374-44bb7dbef213",
   "metadata": {},
   "outputs": [],
   "source": []
  },
  {
   "cell_type": "code",
   "execution_count": null,
   "id": "8a4739cf-f50e-49c8-bbdd-8e7e552d3930",
   "metadata": {},
   "outputs": [],
   "source": []
  },
  {
   "cell_type": "code",
   "execution_count": null,
   "id": "b0be0250-c0d2-4b19-b7ba-e05daee1e246",
   "metadata": {},
   "outputs": [],
   "source": []
  },
  {
   "cell_type": "code",
   "execution_count": null,
   "id": "74b842b8-2023-4288-8581-fcab0e806afb",
   "metadata": {},
   "outputs": [],
   "source": []
  },
  {
   "cell_type": "code",
   "execution_count": null,
   "id": "63e5c992-9000-4a4a-b2ab-9e8f048d46cb",
   "metadata": {},
   "outputs": [],
   "source": []
  }
 ],
 "metadata": {
  "kernelspec": {
   "display_name": "Python 3 (ipykernel)",
   "language": "python",
   "name": "python3"
  },
  "language_info": {
   "codemirror_mode": {
    "name": "ipython",
    "version": 3
   },
   "file_extension": ".py",
   "mimetype": "text/x-python",
   "name": "python",
   "nbconvert_exporter": "python",
   "pygments_lexer": "ipython3",
   "version": "3.10.12"
  }
 },
 "nbformat": 4,
 "nbformat_minor": 5
}
